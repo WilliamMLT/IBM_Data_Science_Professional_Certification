{
    "cells": [
        {
            "cell_type": "markdown",
            "metadata": {
                "collapsed": true
            },
            "source": "# My Jupyter Notebook on IBM Data Science Experience"
        },
        {
            "cell_type": "markdown",
            "metadata": {},
            "source": "**Letian Ma**  \nJunior Data Scientist"
        },
        {
            "cell_type": "markdown",
            "metadata": {},
            "source": "*Data Scientist is the Sexiest Job of the 21st Century; a catchphrase rightfully coined by HBR and is often the first thing that came to mind when it came into discussion. Indeed, the allure of data science is to make informed decisions and deliver actionable insights through data. Everyone loves to make an impact and that was the reason behind my decision to venture into Data Science.*\n"
        },
        {
            "cell_type": "markdown",
            "metadata": {},
            "source": "##### The code in cell 5 makes a calculation of 2+2"
        },
        {
            "cell_type": "code",
            "execution_count": 2,
            "metadata": {},
            "outputs": [
                {
                    "data": {
                        "text/plain": "4"
                    },
                    "execution_count": 2,
                    "metadata": {},
                    "output_type": "execute_result"
                }
            ],
            "source": "2+2"
        },
        {
            "cell_type": "markdown",
            "metadata": {},
            "source": "This is a horizontal Rule\n\n___\n2. This is a numbered list\n3. This too\n    > A blockquote  \n\nTo highlight `code`\n\n~~Strikethrough~~\n![Smile or not!](https://encrypted-tbn0.gstatic.com/images?q=tbn%3AANd9GcTc3g6dHPLnJCT5DszAQ9h8fcjNaaDypxeMYsDuapMXk4Xhyrij)\n\n[safe internet](https://duckduckgo.com/)"
        }
    ],
    "metadata": {
        "kernelspec": {
            "display_name": "Python 3.6",
            "language": "python",
            "name": "python3"
        },
        "language_info": {
            "codemirror_mode": {
                "name": "ipython",
                "version": 3
            },
            "file_extension": ".py",
            "mimetype": "text/x-python",
            "name": "python",
            "nbconvert_exporter": "python",
            "pygments_lexer": "ipython3",
            "version": "3.6.9"
        }
    },
    "nbformat": 4,
    "nbformat_minor": 1
}